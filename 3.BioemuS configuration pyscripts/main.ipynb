{
 "cells": [
  {
   "cell_type": "markdown",
   "metadata": {},
   "source": [
    "# Generate configuration file\n",
    "\n",
    "Generate hardware and software configuration files\n",
    "* **Hardware configuration file**: configure the hardware (neurons, synapses, ion channels, monitoring)\n",
    "* **Software configuration file**: configure the C++ application (monitoring, stimulation, control)"
   ]
  },
  {
   "cell_type": "code",
   "execution_count": 5,
   "metadata": {},
   "outputs": [
    {
     "name": "stdout",
     "output_type": "stream",
     "text": [
      "The autoreload extension is already loaded. To reload it, use:\n",
      "  %reload_ext autoreload\n",
      "270\n"
     ]
    },
    {
     "data": {
      "text/html": [
       "<div>\n",
       "<style scoped>\n",
       "    .dataframe tbody tr th:only-of-type {\n",
       "        vertical-align: middle;\n",
       "    }\n",
       "\n",
       "    .dataframe tbody tr th {\n",
       "        vertical-align: top;\n",
       "    }\n",
       "\n",
       "    .dataframe thead th {\n",
       "        text-align: right;\n",
       "    }\n",
       "</style>\n",
       "<table border=\"1\" class=\"dataframe\">\n",
       "  <thead>\n",
       "    <tr style=\"text-align: right;\">\n",
       "      <th></th>\n",
       "      <th># CONFIG</th>\n",
       "      <th>EXC SYNs RATIO [%]</th>\n",
       "      <th>WSYN NMDA</th>\n",
       "      <th>μRS</th>\n",
       "    </tr>\n",
       "  </thead>\n",
       "  <tbody>\n",
       "    <tr>\n",
       "      <th>0</th>\n",
       "      <td>1056</td>\n",
       "      <td>80/20</td>\n",
       "      <td>1.00</td>\n",
       "      <td>0.0255</td>\n",
       "    </tr>\n",
       "    <tr>\n",
       "      <th>1</th>\n",
       "      <td>1057</td>\n",
       "      <td>85/15</td>\n",
       "      <td>1.00</td>\n",
       "      <td>0.0255</td>\n",
       "    </tr>\n",
       "    <tr>\n",
       "      <th>2</th>\n",
       "      <td>1058</td>\n",
       "      <td>90/10</td>\n",
       "      <td>1.00</td>\n",
       "      <td>0.0255</td>\n",
       "    </tr>\n",
       "    <tr>\n",
       "      <th>3</th>\n",
       "      <td>1059</td>\n",
       "      <td>95/5</td>\n",
       "      <td>1.00</td>\n",
       "      <td>0.0255</td>\n",
       "    </tr>\n",
       "    <tr>\n",
       "      <th>4</th>\n",
       "      <td>1060</td>\n",
       "      <td>80/20</td>\n",
       "      <td>0.50</td>\n",
       "      <td>0.0255</td>\n",
       "    </tr>\n",
       "    <tr>\n",
       "      <th>...</th>\n",
       "      <td>...</td>\n",
       "      <td>...</td>\n",
       "      <td>...</td>\n",
       "      <td>...</td>\n",
       "    </tr>\n",
       "    <tr>\n",
       "      <th>265</th>\n",
       "      <td>1321</td>\n",
       "      <td>50/50</td>\n",
       "      <td>0.50</td>\n",
       "      <td>0.0257</td>\n",
       "    </tr>\n",
       "    <tr>\n",
       "      <th>266</th>\n",
       "      <td>1322</td>\n",
       "      <td>50/50</td>\n",
       "      <td>0.75</td>\n",
       "      <td>0.0257</td>\n",
       "    </tr>\n",
       "    <tr>\n",
       "      <th>267</th>\n",
       "      <td>1323</td>\n",
       "      <td>50/50</td>\n",
       "      <td>0.10</td>\n",
       "      <td>0.0257</td>\n",
       "    </tr>\n",
       "    <tr>\n",
       "      <th>268</th>\n",
       "      <td>1324</td>\n",
       "      <td>50/50</td>\n",
       "      <td>0.25</td>\n",
       "      <td>0.0257</td>\n",
       "    </tr>\n",
       "    <tr>\n",
       "      <th>269</th>\n",
       "      <td>1325</td>\n",
       "      <td>50/50</td>\n",
       "      <td>0.40</td>\n",
       "      <td>0.0257</td>\n",
       "    </tr>\n",
       "  </tbody>\n",
       "</table>\n",
       "<p>270 rows × 4 columns</p>\n",
       "</div>"
      ],
      "text/plain": [
       "     # CONFIG EXC SYNs RATIO [%]  WSYN NMDA     μRS\n",
       "0        1056              80/20       1.00  0.0255\n",
       "1        1057              85/15       1.00  0.0255\n",
       "2        1058              90/10       1.00  0.0255\n",
       "3        1059               95/5       1.00  0.0255\n",
       "4        1060              80/20       0.50  0.0255\n",
       "..        ...                ...        ...     ...\n",
       "265      1321              50/50       0.50  0.0257\n",
       "266      1322              50/50       0.75  0.0257\n",
       "267      1323              50/50       0.10  0.0257\n",
       "268      1324              50/50       0.25  0.0257\n",
       "269      1325              50/50       0.40  0.0257\n",
       "\n",
       "[270 rows x 4 columns]"
      ]
     },
     "execution_count": 5,
     "metadata": {},
     "output_type": "execute_result"
    }
   ],
   "source": [
    "%load_ext autoreload\n",
    "%autoreload 2\n",
    "\n",
    "import os, os.path\n",
    "import shutil\n",
    "from configuration.gen_config import gen_config\n",
    "import numpy as np\n",
    "import pandas as pd\n",
    "\n",
    "INPUT_CONFIG_FILE = pd.read_excel('./input config/inputConfigs.xlsx',\"Feuil1\")\n",
    "print(len(INPUT_CONFIG_FILE))\n",
    "print(INPUT_CONFIG_FILE)\n",
    "\n",
    "for iconfig in INPUT_CONFIG_FILE['# CONFIG']:\n",
    "    config_param = INPUT_CONFIG_FILE[INPUT_CONFIG_FILE['# CONFIG'] == iconfig]\n",
    "    \n",
    "    print(iconfig)\n",
    "    \n",
    "    # Configuration file \n",
    "    NCONFIG = str(iconfig)            # <EDIT>\n",
    "\n",
    "    # Stimulation\n",
    "    STIM_ENABLE = True\n",
    "    STIM_DEL_MS = 0\n",
    "    STIM_DUR_MS = 30\n",
    "\n",
    "    for itrial in range(1):    # <EDIT>\n",
    "\n",
    "        # Configuration file \n",
    "        NTRIAL = str(itrial+1)                                      \n",
    "        CONFIG_NAME = \"new-CONFIG\"+NCONFIG+\"-SNN\"+NTRIAL+\"-10min\"   # <EDIT>\n",
    "        SAVE_PATH   = \"export/CONFIG\"+NCONFIG+\" SNN\"+NTRIAL\n",
    "        os.makedirs(SAVE_PATH)\n",
    "\n",
    "        np.random.seed(333)\n",
    "        [hwconfig, swconfig] = gen_config(CONFIG_NAME, SAVE_PATH, STIM_ENABLE, STIM_DEL_MS, STIM_DUR_MS, config_param)\n",
    "\n",
    "csourcefolder = './export'\n",
    "cdestfolder = './export/exportexport'\n",
    "for foldname in os.listdir(csourcefolder):\n",
    "    if 'CONFIG' in foldname:\n",
    "        for confFileName in os.listdir(os.path.join(csourcefolder,foldname)):\n",
    "            if 'wconfig_' in confFileName:\n",
    "                shutil.copy2(os.path.join(csourcefolder,foldname,confFileName), os.path.join(cdestfolder,confFileName))"
   ]
  },
  {
   "cell_type": "markdown",
   "metadata": {},
   "source": [
    "# Emulate configuration\n",
    "\n",
    "* Emulate using the configuration files generated"
   ]
  },
  {
   "cell_type": "code",
   "execution_count": null,
   "metadata": {},
   "outputs": [],
   "source": [
    "import numpy as np\n",
    "from emulation.emulate_config import emulate_config\n",
    "\n",
    "NEURON_LIST   = [i for i in range(4)]\n",
    "FPGA_EMU      = False\n",
    "STORE_CONTEXT = True\n",
    "\n",
    "exact_emu = emulate_config(hwconfig, swconfig, NEURON_LIST, False, STORE_CONTEXT, dtype=np.float64)\n",
    "\n",
    "if FPGA_EMU:\n",
    "    fpga_emu = emulate_config(hwconfig, swconfig, NEURON_LIST, True,  STORE_CONTEXT, dtype=np.float32)"
   ]
  },
  {
   "cell_type": "markdown",
   "metadata": {},
   "source": [
    "* Plot emulation"
   ]
  },
  {
   "cell_type": "code",
   "execution_count": null,
   "metadata": {},
   "outputs": [],
   "source": [
    "%matplotlib qt\n",
    "from emulation.plots.SnnPlotter import *\n",
    "\n",
    "NEURON_TO_DISPLAY       = 0\n",
    "NEURON_LIST_TO_DISPLAY  = [0,1,2,3]\n",
    "\n",
    "exact_plotter = SnnPlotter(exact_emu)\n",
    "exact_plotter.plotIonRates()\n",
    "exact_plotter.plotSynRates()\n",
    "exact_plotter.plotIonChanStates(NEURON_TO_DISPLAY)\n",
    "exact_plotter.plotCurrents(NEURON_TO_DISPLAY)\n",
    "# exact_plotter.plotVmem(NEURON_LIST_TO_DISPLAY, plot_type='all')\n",
    "exact_plotter.plotVmem(NEURON_LIST_TO_DISPLAY, plot_type='comp')\n",
    "exact_plotter.plotVmem(NEURON_LIST_TO_DISPLAY, plot_type='subplot')\n",
    "exact_plotter.plotRaster()"
   ]
  },
  {
   "cell_type": "markdown",
   "metadata": {},
   "source": [
    "# Monitoring\n",
    "\n",
    "* Monitor spikes"
   ]
  },
  {
   "cell_type": "code",
   "execution_count": null,
   "metadata": {},
   "outputs": [],
   "source": [
    "import monitoring.spkmon.main as spike_monitor\n",
    "spike_monitor.main()"
   ]
  },
  {
   "cell_type": "markdown",
   "metadata": {},
   "source": [
    "* Monitor waves"
   ]
  },
  {
   "cell_type": "code",
   "execution_count": null,
   "metadata": {},
   "outputs": [],
   "source": [
    "import monitoring.vmon.main as vmem_monitor\n",
    "vmem_monitor.main()"
   ]
  },
  {
   "cell_type": "markdown",
   "metadata": {},
   "source": [
    "* External stimulation"
   ]
  },
  {
   "cell_type": "code",
   "execution_count": null,
   "metadata": {},
   "outputs": [],
   "source": [
    "import monitoring.ext_stim.main as external_stim\n",
    "external_stim.main()"
   ]
  },
  {
   "cell_type": "markdown",
   "metadata": {},
   "source": [
    "# Analysis\n",
    "\n",
    "* Raster"
   ]
  },
  {
   "cell_type": "code",
   "execution_count": null,
   "metadata": {},
   "outputs": [],
   "source": [
    "%matplotlib qt\n",
    "from analysis.draw_raster import draw_raster\n",
    "from analysis.extract_spikes import extract_spikes\n",
    "from analysis.spike_analysis import spike_analysis\n",
    "from analysis.burst_analysis import burst_analysis\n",
    "\n",
    "DIRPATH        = \"data/\"\n",
    "RASTER_LIST    = [\"test1\", \"test2\"]\n",
    "REC_DURATION_S = 1\n",
    "SAVE_FIGS      = False\n",
    "\n",
    "draw_raster(DIRPATH, RASTER_LIST, SAVE_FIGS)\n",
    "\n",
    "tstamp_list = extract_spikes(DIRPATH, RASTER_LIST, REC_DURATION_S)\n",
    "spike_analysis(RASTER_LIST, tstamp_list, REC_DURATION_S)\n",
    "burst_analysis(RASTER_LIST, tstamp_list)"
   ]
  },
  {
   "cell_type": "markdown",
   "metadata": {},
   "source": [
    "* Waveforms"
   ]
  },
  {
   "cell_type": "code",
   "execution_count": null,
   "metadata": {},
   "outputs": [],
   "source": [
    "%matplotlib qt\n",
    "from analysis.draw_waves import draw_waves\n",
    "\n",
    "DIRPATH        = \"data/\"\n",
    "WAVE_LIST      = [\"test1\", \"test2\"]\n",
    "PLOT_TIME_S    = 0.1\n",
    "SEL_NRN        = [i for i in range(2)] # up to MAX_NB_NEURONS_WAVES_MON\n",
    "SAVE_FIGS      = False\n",
    "\n",
    "draw_waves(DIRPATH, WAVE_LIST, PLOT_TIME_S, SEL_NRN)\n"
   ]
  }
 ],
 "metadata": {
  "kernelspec": {
   "display_name": "bioemus",
   "language": "python",
   "name": "python3"
  },
  "language_info": {
   "codemirror_mode": {
    "name": "ipython",
    "version": 3
   },
   "file_extension": ".py",
   "mimetype": "text/x-python",
   "name": "python",
   "nbconvert_exporter": "python",
   "pygments_lexer": "ipython3",
   "version": "3.11.5"
  }
 },
 "nbformat": 4,
 "nbformat_minor": 2
}
